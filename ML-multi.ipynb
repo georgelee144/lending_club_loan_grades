{
 "cells": [
  {
   "cell_type": "markdown",
   "metadata": {},
   "source": [
    "This not will attempt to classify the loan's grade. There are 2 ways we can classify this one verses all, such as grade A or not, or multi classification. This note book will be multi"
   ]
  },
  {
   "cell_type": "code",
   "execution_count": 1,
   "metadata": {},
   "outputs": [],
   "source": [
    "import pandas as pd"
   ]
  },
  {
   "cell_type": "code",
   "execution_count": 2,
   "metadata": {},
   "outputs": [],
   "source": [
    "df = pd.read_csv('data/lending_club_ml_complete.csv')"
   ]
  },
  {
   "cell_type": "code",
   "execution_count": 3,
   "metadata": {},
   "outputs": [],
   "source": [
    "from sklearn.model_selection import train_test_split\n",
    "\n",
    "X = df.drop(['grade'],axis= 1)\n",
    "y = df.grade\n",
    "\n",
    "X_train, X_test, y_train, y_test = train_test_split(X, y, test_size=0.33, random_state=42)"
   ]
  },
  {
   "cell_type": "code",
   "execution_count": 6,
   "metadata": {
    "code_folding": [],
    "scrolled": false
   },
   "outputs": [
    {
     "data": {
      "text/plain": [
       "GridSearchCV(cv=3, error_score='raise-deprecating',\n",
       "             estimator=RandomForestClassifier(bootstrap=True, class_weight=None,\n",
       "                                              criterion='gini', max_depth=None,\n",
       "                                              max_features='auto',\n",
       "                                              max_leaf_nodes=None,\n",
       "                                              min_impurity_decrease=0.0,\n",
       "                                              min_impurity_split=None,\n",
       "                                              min_samples_leaf=1,\n",
       "                                              min_samples_split=2,\n",
       "                                              min_weight_fraction_leaf=0.0,\n",
       "                                              n_estimators='warn', n_jobs=None,\n",
       "                                              oob_score=False,\n",
       "                                              random_state=None, verbose=0,\n",
       "                                              warm_start=False),\n",
       "             iid='warn', n_jobs=None,\n",
       "             param_grid={'criterion': ['gini', 'entropy'],\n",
       "                         'max_features': ['auto', None],\n",
       "                         'n_estimators': [50, 99], 'n_jobs': [-1]},\n",
       "             pre_dispatch='2*n_jobs', refit=True, return_train_score=False,\n",
       "             scoring=None, verbose=0)"
      ]
     },
     "execution_count": 6,
     "metadata": {},
     "output_type": "execute_result"
    }
   ],
   "source": [
    "from sklearn.ensemble import RandomForestClassifier\n",
    "from sklearn.model_selection import GridSearchCV\n",
    "\n",
    "rf = RandomForestClassifier()\n",
    "\n",
    "parameters = {'n_estimators': [50,99],\n",
    "              'criterion' : ['gini','entropy'],\n",
    "              'max_features' : ['auto',None],\n",
    "              'n_jobs' : [-1]\n",
    "             }\n",
    "\n",
    "rf_CV = GridSearchCV(rf, parameters, cv=3)\n",
    "\n",
    "rf_CV.fit(X_train, y_train)"
   ]
  },
  {
   "cell_type": "code",
   "execution_count": 7,
   "metadata": {},
   "outputs": [
    {
     "data": {
      "text/plain": [
       "{'mean_fit_time': array([  76.64478509,  137.41889747,  593.37683121, 1113.29075805,\n",
       "          89.89236069,  175.26256728,  750.88643328, 1418.2084531 ]),\n",
       " 'std_fit_time': array([3.78773117, 5.39293849, 6.19015017, 5.54956355, 1.85434764,\n",
       "        0.8058577 , 7.93275892, 7.22263625]),\n",
       " 'mean_score_time': array([4.66736031, 8.86206532, 3.90130186, 6.97411791, 4.27630313,\n",
       "        8.25056489, 3.87514623, 6.43267298]),\n",
       " 'std_score_time': array([0.14343182, 0.26903413, 0.10316742, 0.01907546, 0.04103239,\n",
       "        0.33146148, 0.47520282, 0.09743381]),\n",
       " 'param_criterion': masked_array(data=['gini', 'gini', 'gini', 'gini', 'entropy', 'entropy',\n",
       "                    'entropy', 'entropy'],\n",
       "              mask=[False, False, False, False, False, False, False, False],\n",
       "        fill_value='?',\n",
       "             dtype=object),\n",
       " 'param_max_features': masked_array(data=['auto', 'auto', None, None, 'auto', 'auto', None, None],\n",
       "              mask=[False, False, False, False, False, False, False, False],\n",
       "        fill_value='?',\n",
       "             dtype=object),\n",
       " 'param_n_estimators': masked_array(data=[50, 99, 50, 99, 50, 99, 50, 99],\n",
       "              mask=[False, False, False, False, False, False, False, False],\n",
       "        fill_value='?',\n",
       "             dtype=object),\n",
       " 'param_n_jobs': masked_array(data=[-1, -1, -1, -1, -1, -1, -1, -1],\n",
       "              mask=[False, False, False, False, False, False, False, False],\n",
       "        fill_value='?',\n",
       "             dtype=object),\n",
       " 'params': [{'criterion': 'gini',\n",
       "   'max_features': 'auto',\n",
       "   'n_estimators': 50,\n",
       "   'n_jobs': -1},\n",
       "  {'criterion': 'gini',\n",
       "   'max_features': 'auto',\n",
       "   'n_estimators': 99,\n",
       "   'n_jobs': -1},\n",
       "  {'criterion': 'gini',\n",
       "   'max_features': None,\n",
       "   'n_estimators': 50,\n",
       "   'n_jobs': -1},\n",
       "  {'criterion': 'gini',\n",
       "   'max_features': None,\n",
       "   'n_estimators': 99,\n",
       "   'n_jobs': -1},\n",
       "  {'criterion': 'entropy',\n",
       "   'max_features': 'auto',\n",
       "   'n_estimators': 50,\n",
       "   'n_jobs': -1},\n",
       "  {'criterion': 'entropy',\n",
       "   'max_features': 'auto',\n",
       "   'n_estimators': 99,\n",
       "   'n_jobs': -1},\n",
       "  {'criterion': 'entropy',\n",
       "   'max_features': None,\n",
       "   'n_estimators': 50,\n",
       "   'n_jobs': -1},\n",
       "  {'criterion': 'entropy',\n",
       "   'max_features': None,\n",
       "   'n_estimators': 99,\n",
       "   'n_jobs': -1}],\n",
       " 'split0_test_score': array([0.73542309, 0.74275732, 0.84926792, 0.85258314, 0.73444424,\n",
       "        0.74141765, 0.83294185, 0.83620171]),\n",
       " 'split1_test_score': array([0.73677874, 0.743804  , 0.84973126, 0.8530215 , 0.73493535,\n",
       "        0.74118895, 0.83438215, 0.83775456]),\n",
       " 'split2_test_score': array([0.7354243 , 0.74338556, 0.84860745, 0.85117784, 0.73571546,\n",
       "        0.74171007, 0.83280461, 0.8354786 ]),\n",
       " 'mean_test_score': array([0.73587538, 0.74331563, 0.84920221, 0.85226083, 0.73503168,\n",
       "        0.74143889, 0.8333762 , 0.83647829]),\n",
       " 'std_test_score': array([0.00063877, 0.00043016, 0.00046114, 0.00078642, 0.00052342,\n",
       "        0.00021328, 0.00071351, 0.00094951]),\n",
       " 'rank_test_score': array([7, 5, 2, 1, 8, 6, 4, 3])}"
      ]
     },
     "execution_count": 7,
     "metadata": {},
     "output_type": "execute_result"
    }
   ],
   "source": [
    "rf_CV.cv_results_"
   ]
  },
  {
   "cell_type": "code",
   "execution_count": 8,
   "metadata": {},
   "outputs": [
    {
     "data": {
      "text/plain": [
       "RandomForestClassifier(bootstrap=True, class_weight=None, criterion='gini',\n",
       "                       max_depth=None, max_features=None, max_leaf_nodes=None,\n",
       "                       min_impurity_decrease=0.0, min_impurity_split=None,\n",
       "                       min_samples_leaf=1, min_samples_split=2,\n",
       "                       min_weight_fraction_leaf=0.0, n_estimators=99, n_jobs=-1,\n",
       "                       oob_score=False, random_state=None, verbose=0,\n",
       "                       warm_start=False)"
      ]
     },
     "execution_count": 8,
     "metadata": {},
     "output_type": "execute_result"
    }
   ],
   "source": [
    "rf_CV.best_estimator_ "
   ]
  },
  {
   "cell_type": "code",
   "execution_count": 9,
   "metadata": {},
   "outputs": [],
   "source": [
    "from sklearn.metrics import confusion_matrix\n",
    "from sklearn.metrics import classification_report\n",
    "\n",
    "\n",
    "def scoring(x, y, clf):\n",
    "\n",
    "    print(confusion_matrix(y, clf.predict(x)))\n",
    "    print(classification_report(y, clf.predict(x)))"
   ]
  },
  {
   "cell_type": "code",
   "execution_count": 10,
   "metadata": {
    "scrolled": false
   },
   "outputs": [
    {
     "name": "stdout",
     "output_type": "stream",
     "text": [
      "[[132852   8972    612     14      4      0      0]\n",
      " [  6833 224893   9435    202      2      0      0]\n",
      " [  1326  12776 217916   2962     24      6      0]\n",
      " [   258   2484   9646 109251   1951     26      0]\n",
      " [    38    454   1764   4358  51537    514     12]\n",
      " [     4     52    334    426   1402  17885    304]\n",
      " [     0      4     44     84    106    506   4951]]\n",
      "              precision    recall  f1-score   support\n",
      "\n",
      "           0       0.94      0.93      0.94    142454\n",
      "           1       0.90      0.93      0.92    241365\n",
      "           2       0.91      0.93      0.92    235010\n",
      "           3       0.93      0.88      0.91    123616\n",
      "           4       0.94      0.88      0.91     58677\n",
      "           5       0.94      0.88      0.91     20407\n",
      "           6       0.94      0.87      0.90      5695\n",
      "\n",
      "    accuracy                           0.92    827224\n",
      "   macro avg       0.93      0.90      0.91    827224\n",
      "weighted avg       0.92      0.92      0.92    827224\n",
      "\n"
     ]
    }
   ],
   "source": [
    "scoring(X_test, y_test, rf_CV)"
   ]
  },
  {
   "cell_type": "code",
   "execution_count": null,
   "metadata": {},
   "outputs": [],
   "source": []
  }
 ],
 "metadata": {
  "kernelspec": {
   "display_name": "Python 3",
   "language": "python",
   "name": "python3"
  },
  "language_info": {
   "codemirror_mode": {
    "name": "ipython",
    "version": 3
   },
   "file_extension": ".py",
   "mimetype": "text/x-python",
   "name": "python",
   "nbconvert_exporter": "python",
   "pygments_lexer": "ipython3",
   "version": "3.7.3"
  }
 },
 "nbformat": 4,
 "nbformat_minor": 2
}
