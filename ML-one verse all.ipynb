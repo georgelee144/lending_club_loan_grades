{
 "cells": [
  {
   "cell_type": "markdown",
   "metadata": {},
   "source": [
    "This not will attempt to classify the loan's grade. There are 2 ways we can classify this one verses all, such as grade A or not, or multi classification. This note book will just classify one verse all for all grade loans"
   ]
  },
  {
   "cell_type": "code",
   "execution_count": 1,
   "metadata": {},
   "outputs": [],
   "source": [
    "import pandas as pd"
   ]
  },
  {
   "cell_type": "code",
   "execution_count": 2,
   "metadata": {
    "scrolled": true
   },
   "outputs": [],
   "source": [
    "df = pd.read_csv('data/lending_club_ml_complete.csv')"
   ]
  },
  {
   "cell_type": "code",
   "execution_count": 3,
   "metadata": {},
   "outputs": [],
   "source": [
    "from sklearn.model_selection import train_test_split\n",
    "\n",
    "X = df.drop(['grade'], axis=1)\n",
    "y = df.grade\n",
    "\n",
    "X_train, X_test, y_train, y_test = train_test_split(X, y, test_size=0.3, random_state=42)"
   ]
  },
  {
   "cell_type": "code",
   "execution_count": 4,
   "metadata": {},
   "outputs": [
    {
     "data": {
      "text/plain": [
       "OneVsRestClassifier(estimator=RandomForestClassifier(bootstrap=True,\n",
       "                                                     class_weight=None,\n",
       "                                                     criterion='gini',\n",
       "                                                     max_depth=None,\n",
       "                                                     max_features=None,\n",
       "                                                     max_leaf_nodes=None,\n",
       "                                                     min_impurity_decrease=0.0,\n",
       "                                                     min_impurity_split=None,\n",
       "                                                     min_samples_leaf=1,\n",
       "                                                     min_samples_split=2,\n",
       "                                                     min_weight_fraction_leaf=0.0,\n",
       "                                                     n_estimators=99, n_jobs=-1,\n",
       "                                                     oob_score=False,\n",
       "                                                     random_state=None,\n",
       "                                                     verbose=0,\n",
       "                                                     warm_start=False),\n",
       "                    n_jobs=None)"
      ]
     },
     "execution_count": 4,
     "metadata": {},
     "output_type": "execute_result"
    }
   ],
   "source": [
    "from sklearn.multiclass import OneVsRestClassifier\n",
    "from sklearn.ensemble import RandomForestClassifier\n",
    "\n",
    "rf_best = RandomForestClassifier(max_features=None,n_estimators=99, n_jobs = -1)\n",
    "\n",
    "ovr = OneVsRestClassifier(rf_best)\n",
    "\n",
    "ovr.fit(X_train,y_train)"
   ]
  },
  {
   "cell_type": "code",
   "execution_count": 5,
   "metadata": {},
   "outputs": [],
   "source": [
    "from sklearn.metrics import confusion_matrix\n",
    "from sklearn.metrics import classification_report\n",
    "\n",
    "\n",
    "def scoring(x, y, clf):\n",
    "\n",
    "    print(confusion_matrix(y, clf.predict(x)))\n",
    "    print(classification_report(y, clf.predict(x)))"
   ]
  },
  {
   "cell_type": "code",
   "execution_count": 6,
   "metadata": {},
   "outputs": [
    {
     "name": "stdout",
     "output_type": "stream",
     "text": [
      "[[124540   4208    592    184     20      4      0]\n",
      " [  3508 211855   3644    442     64      4      0]\n",
      " [  1474   3702 206588   1882     16      4      0]\n",
      " [   500   1268   4610 104240   1548     16      0]\n",
      " [    76    368    640   4760  47136    388      4]\n",
      " [    14     60     86    528   1322  16364    188]\n",
      " [     0      4     16     72    156    572   4355]]\n",
      "              precision    recall  f1-score   support\n",
      "\n",
      "           0       0.96      0.96      0.96    129548\n",
      "           1       0.96      0.97      0.96    219517\n",
      "           2       0.96      0.97      0.96    213666\n",
      "           3       0.93      0.93      0.93    112182\n",
      "           4       0.94      0.88      0.91     53372\n",
      "           5       0.94      0.88      0.91     18562\n",
      "           6       0.96      0.84      0.90      5175\n",
      "\n",
      "    accuracy                           0.95    752022\n",
      "   macro avg       0.95      0.92      0.93    752022\n",
      "weighted avg       0.95      0.95      0.95    752022\n",
      "\n"
     ]
    }
   ],
   "source": [
    "scoring(X_test,y_test,ovr)"
   ]
  }
 ],
 "metadata": {
  "kernelspec": {
   "display_name": "Python 3",
   "language": "python",
   "name": "python3"
  },
  "language_info": {
   "codemirror_mode": {
    "name": "ipython",
    "version": 3
   },
   "file_extension": ".py",
   "mimetype": "text/x-python",
   "name": "python",
   "nbconvert_exporter": "python",
   "pygments_lexer": "ipython3",
   "version": "3.6.8"
  }
 },
 "nbformat": 4,
 "nbformat_minor": 2
}
